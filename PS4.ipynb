{
 "cells": [
  {
   "cell_type": "markdown",
   "metadata": {},
   "source": [
    "# Problem Set 4\n",
    "\n",
    "**It is still true that there's usually more than one way to achive the same result. As such, these answers show just one (or two) possibilities. You can have a perfectly valid code which achieves the same but differs from below.**"
   ]
  },
  {
   "cell_type": "markdown",
   "metadata": {},
   "source": [
    "**0.** Housekeeping: Import pandas under the name `pd`, see the version, import NumPy as `np`, set some settings:"
   ]
  },
  {
   "cell_type": "code",
   "execution_count": 5,
   "metadata": {
    "scrolled": true
   },
   "outputs": [
    {
     "data": {
      "text/plain": [
       "'1.1.3'"
      ]
     },
     "execution_count": 5,
     "metadata": {},
     "output_type": "execute_result"
    }
   ],
   "source": [
    "import numpy as np   \n",
    "np.random.seed(12345)\n",
    "np.set_printoptions(precision=4, suppress=True)\n",
    "import pandas as pd\n",
    "from pandas import Series, DataFrame   # saves on typing pd.\n",
    "pd.options.display.max_rows = 20\n",
    "from IPython.core.interactiveshell import InteractiveShell\n",
    "InteractiveShell.ast_node_interactivity = \"all\"\n",
    "pd.__version__       # Print the version of pandas that has been imported"
   ]
  },
  {
   "cell_type": "markdown",
   "metadata": {},
   "source": [
    "### Q1  Basic Data Management\n",
    "\n",
    "**1.1.**  Consider the following Python dictionary `data` and Python list `labels`. \n",
    "\n",
    "Complete the code to create a DataFrame `df` from this dictionary `data` which has the index `labels`. Display a summary of the basic information about this DataFrame and its data."
   ]
  },
  {
   "cell_type": "code",
   "execution_count": 6,
   "metadata": {},
   "outputs": [],
   "source": [
    "data = {'animal': ['cat', 'cat', 'snake', 'dog', 'dog', 'cat', 'snake', 'cat', 'dog', 'dog'],\n",
    "        'age': [2.5, 3, 0.5, np.nan, 5, 2, 4.5, np.nan, 7, 3],\n",
    "        'visits': [1, 3, 2, 3, 2, 3, 1, 4, 2, 1],\n",
    "        'priority': ['yes', 'yes', 'no', 'yes', 'no', 'no', 'no', 'yes', 'no', 'no']}\n",
    "\n",
    "labels = ['a', 'b', 'c', 'd', 'e', 'f', 'g', 'h', 'i', 'j']"
   ]
  },
  {
   "cell_type": "code",
   "execution_count": null,
   "metadata": {},
   "outputs": [],
   "source": []
  },
  {
   "cell_type": "markdown",
   "metadata": {},
   "source": [
    "**1.2.** Select (for readability, do each one in a separate cell):\n",
    " - the first 3 rows for this data frame.\n",
    " - just the 'animal' and 'age' columns from the DataFrame `df`.\n",
    " - the data in rows `[3, 4, 8]` *and* in columns `['animal', 'age']`.\n",
    " - the rows where the number of visits is 3 or more.\n",
    " - the rows where the age is missing, i.e. is `NaN`. **Hint:** isnull\n",
    " - the rows where the animal is a cat *and* the age is less than 3.\n",
    " - Select the rows for which the age is between 2 and 4 (inclusive). **Hint:** between"
   ]
  },
  {
   "cell_type": "code",
   "execution_count": null,
   "metadata": {},
   "outputs": [],
   "source": []
  },
  {
   "cell_type": "code",
   "execution_count": null,
   "metadata": {},
   "outputs": [],
   "source": []
  },
  {
   "cell_type": "code",
   "execution_count": null,
   "metadata": {},
   "outputs": [],
   "source": []
  },
  {
   "cell_type": "code",
   "execution_count": null,
   "metadata": {},
   "outputs": [],
   "source": []
  },
  {
   "cell_type": "code",
   "execution_count": null,
   "metadata": {},
   "outputs": [],
   "source": []
  },
  {
   "cell_type": "code",
   "execution_count": null,
   "metadata": {},
   "outputs": [],
   "source": []
  },
  {
   "cell_type": "code",
   "execution_count": null,
   "metadata": {},
   "outputs": [],
   "source": []
  },
  {
   "cell_type": "markdown",
   "metadata": {},
   "source": [
    "**1.3.** Calculate:\n",
    " - the sum of all visits (the total number of visits). \n",
    " - the mean age for each different animal.\n",
    " - Count the number of each type of animal . \n",
    " \n",
    "**Hint:** use `sum`, `group_by`, `value_counts`"
   ]
  },
  {
   "cell_type": "code",
   "execution_count": null,
   "metadata": {},
   "outputs": [],
   "source": []
  },
  {
   "cell_type": "code",
   "execution_count": null,
   "metadata": {},
   "outputs": [],
   "source": []
  },
  {
   "cell_type": "code",
   "execution_count": null,
   "metadata": {},
   "outputs": [],
   "source": []
  },
  {
   "cell_type": "markdown",
   "metadata": {},
   "source": [
    "**1.4.** Sort `df` first by the values in the 'age' in *decending* order, then by the value in the 'visit' column in *ascending* order. **Hint:** sort_values"
   ]
  },
  {
   "cell_type": "code",
   "execution_count": null,
   "metadata": {},
   "outputs": [],
   "source": []
  },
  {
   "cell_type": "markdown",
   "metadata": {},
   "source": [
    "**1.5.** The 'priority' column contains the values 'yes' and 'no'. Replace this column with a column of boolean values: 'yes' should be `True` and 'no' should be `False`. **Hint:** map"
   ]
  },
  {
   "cell_type": "code",
   "execution_count": null,
   "metadata": {},
   "outputs": [],
   "source": []
  },
  {
   "cell_type": "markdown",
   "metadata": {},
   "source": [
    "## Q2: Grouping Data"
   ]
  },
  {
   "cell_type": "markdown",
   "metadata": {},
   "source": [
    "**2.1.** For DataFrame below, has a column of groups 'grps' and and column of numbers 'vals'. For each *group*, find the sum of the three greatest values. **Hint:** groupby, nlargest, sum(level=0). Notice that `nlargest` returns a multiindexed series so the `level=0` keeps the sum at the outer level."
   ]
  },
  {
   "cell_type": "code",
   "execution_count": null,
   "metadata": {},
   "outputs": [],
   "source": [
    "df = DataFrame({'grps': list('aaabbcaabcccbbc'), \n",
    "                'vals': [12,345,-3,1,45,14,4,52,54,23,235,-21,57,-3,87]})"
   ]
  },
  {
   "cell_type": "code",
   "execution_count": null,
   "metadata": {},
   "outputs": [],
   "source": []
  },
  {
   "cell_type": "markdown",
   "metadata": {},
   "source": [
    "**2.2.** Given a DataFrame with a column of group IDs, 'grps', and a column of corresponding integer values, 'vals', as in question 7, replace any negative values in 'vals' with the group mean. **Hint:** write an appropriate function and then pass it to `transform` after `groupby` "
   ]
  },
  {
   "cell_type": "code",
   "execution_count": null,
   "metadata": {},
   "outputs": [],
   "source": []
  },
  {
   "cell_type": "markdown",
   "metadata": {},
   "source": [
    "### Q3  Data Cleaning\n",
    "\n",
    "The task is to tidy up the following DataFrame:"
   ]
  },
  {
   "cell_type": "code",
   "execution_count": null,
   "metadata": {},
   "outputs": [],
   "source": [
    "df_1 = DataFrame({'From_To': ['LoNDon_paris', 'MAdrid_miLAN', 'londON_StockhOlm', \n",
    "                               'Budapest_PaRis', 'Brussels_londOn'],\n",
    "              'FlightNumber': [10045, np.nan, 10065, np.nan, 10085],\n",
    "              'RecentDelays': [[23, 47], [], [24, 43, 87], [13], [67, 32]],\n",
    "                   'Airline': ['KLM(!)', '<Air France> (12)', '(British Airways. )', \n",
    "                               '12. Air France', '\"Swiss Air\"']})"
   ]
  },
  {
   "cell_type": "markdown",
   "metadata": {},
   "source": [
    "Below is the target output you would like to create:\n",
    "<div>\n",
    "<style scoped>\n",
    "    .dataframe tbody tr th:only-of-type {\n",
    "        vertical-align: middle;\n",
    "    }\n",
    "\n",
    "    .dataframe tbody tr th {\n",
    "        vertical-align: top;\n",
    "    }\n",
    "\n",
    "    .dataframe thead th {\n",
    "        text-align: right;\n",
    "    }\n",
    "</style>\n",
    "<table border=\"1\" class=\"dataframe\">\n",
    "  <thead>\n",
    "    <tr style=\"text-align: right;\">\n",
    "      <th></th>\n",
    "      <th>FlightNumber</th>\n",
    "      <th>Airline</th>\n",
    "      <th>From</th>\n",
    "      <th>To</th>\n",
    "      <th>delay_1</th>\n",
    "      <th>delay_2</th>\n",
    "      <th>delay_3</th>\n",
    "    </tr>\n",
    "  </thead>\n",
    "  <tbody>\n",
    "    <tr>\n",
    "      <th>0</th>\n",
    "      <td>10045</td>\n",
    "      <td>KLM</td>\n",
    "      <td>London</td>\n",
    "      <td>Paris</td>\n",
    "      <td>23.0</td>\n",
    "      <td>47.0</td>\n",
    "      <td>NaN</td>\n",
    "    </tr>\n",
    "    <tr>\n",
    "      <th>1</th>\n",
    "      <td>10055</td>\n",
    "      <td>Air France</td>\n",
    "      <td>Madrid</td>\n",
    "      <td>Milan</td>\n",
    "      <td>NaN</td>\n",
    "      <td>NaN</td>\n",
    "      <td>NaN</td>\n",
    "    </tr>\n",
    "    <tr>\n",
    "      <th>2</th>\n",
    "      <td>10065</td>\n",
    "      <td>British Airways</td>\n",
    "      <td>London</td>\n",
    "      <td>Stockholm</td>\n",
    "      <td>24.0</td>\n",
    "      <td>43.0</td>\n",
    "      <td>87.0</td>\n",
    "    </tr>\n",
    "    <tr>\n",
    "      <th>3</th>\n",
    "      <td>10075</td>\n",
    "      <td>Air France</td>\n",
    "      <td>Budapest</td>\n",
    "      <td>Paris</td>\n",
    "      <td>13.0</td>\n",
    "      <td>NaN</td>\n",
    "      <td>NaN</td>\n",
    "    </tr>\n",
    "    <tr>\n",
    "      <th>4</th>\n",
    "      <td>10085</td>\n",
    "      <td>Swiss Air</td>\n",
    "      <td>Brussels</td>\n",
    "      <td>London</td>\n",
    "      <td>67.0</td>\n",
    "      <td>32.0</td>\n",
    "      <td>NaN</td>\n",
    "    </tr>\n",
    "  </tbody>\n",
    "</table>\n",
    "</div>\n",
    "\n",
    "\n",
    "That is we need to:\n",
    " - Some values in the the FlightNumber column are missing. These numbers are meant to increase by 10 with each row so 10055 and 10075 need to be put in place. Fill in these missing numbers and make the column an integer column (instead of a float column). **Hint:** `interpolate`, `astype`\n",
    " - The From\\_To column would be better as two separate columns! Split each string on the underscore delimiter `_` to give a new temporary DataFrame with the correct values. Assign the correct column names to this temporary DataFrame. **Hint:** `str.split()` will create a list split on a character, and the optional argument `expand=True` will create a column for each entry in the list.\n",
    " - Notice how the capitalisation of the city names is all mixed up in this temporary DataFrame. Standardise the strings so that only the first letter is uppercase (e.g. \"londON\" should become \"London\".) **Hint:** `str.capitalize`\n",
    " - Delete the From_To column from `df` and attach the temporary DataFrame you have created. **Hint:** drop, join\n",
    " - In the Airline column, you can see some extra punctuation and symbols have appeared around the airline names. Pull out just the airline name. E.g. `'(British Airways. )'` should become `'British Airways'`. **Hint:** `str.extract('([a-zA-Z\\s]+)', expand=False)` will pull out only the letters.\n",
    " - In the RecentDelays column, the values have been entered into the DataFrame as a list. We would like each first value in its own column, each second value in its own column, and so on. If there isn't an Nth value, the value should be NaN. Expand the Series of lists into a DataFrame named `delays`, rename the columns `delay_1`, `delay_2`, etc. and replace the unwanted RecentDelays column in `df` with `delays`. **Hint:**  Create a temporary df then join it: using `.apply(pd.Series)` will take the list and create a a column for each entry."
   ]
  },
  {
   "cell_type": "code",
   "execution_count": null,
   "metadata": {},
   "outputs": [],
   "source": []
  }
 ],
 "metadata": {
  "kernelspec": {
   "display_name": "Python 3",
   "language": "python",
   "name": "python3"
  },
  "language_info": {
   "codemirror_mode": {
    "name": "ipython",
    "version": 3
   },
   "file_extension": ".py",
   "mimetype": "text/x-python",
   "name": "python",
   "nbconvert_exporter": "python",
   "pygments_lexer": "ipython3",
   "version": "3.8.8"
  }
 },
 "nbformat": 4,
 "nbformat_minor": 2
}
