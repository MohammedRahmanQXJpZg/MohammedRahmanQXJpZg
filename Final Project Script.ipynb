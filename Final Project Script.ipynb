{
 "cells": [
  {
   "cell_type": "markdown",
   "metadata": {},
   "source": [
    "**EC3310 Final Project Script: Candidate numbers: 2107622, 2106445, 2107870 Candidate names: Mohammed Arifur Rahman, Alirida Shugaa, Don Dervishi** "
   ]
  },
  {
   "cell_type": "code",
   "execution_count": 1,
   "metadata": {},
   "outputs": [
    {
     "name": "stdout",
     "output_type": "stream",
     "text": [
      "Requirement already satisfied: quandl in c:\\users\\arifu\\anaconda3\\lib\\site-packages (3.6.1)Note: you may need to restart the kernel to use updated packages.\n",
      "\n",
      "Requirement already satisfied: numpy>=1.8 in c:\\users\\arifu\\anaconda3\\lib\\site-packages (from quandl) (1.19.2)\n",
      "Requirement already satisfied: requests>=2.7.0 in c:\\users\\arifu\\anaconda3\\lib\\site-packages (from quandl) (2.24.0)\n",
      "Requirement already satisfied: python-dateutil in c:\\users\\arifu\\anaconda3\\lib\\site-packages (from quandl) (2.8.1)\n",
      "Requirement already satisfied: six in c:\\users\\arifu\\anaconda3\\lib\\site-packages (from quandl) (1.15.0)\n",
      "Requirement already satisfied: more-itertools in c:\\users\\arifu\\anaconda3\\lib\\site-packages (from quandl) (8.6.0)\n",
      "Requirement already satisfied: pandas>=0.14 in c:\\users\\arifu\\anaconda3\\lib\\site-packages (from quandl) (1.1.3)\n",
      "Requirement already satisfied: inflection>=0.3.1 in c:\\users\\arifu\\anaconda3\\lib\\site-packages (from quandl) (0.5.1)\n",
      "Requirement already satisfied: certifi>=2017.4.17 in c:\\users\\arifu\\anaconda3\\lib\\site-packages (from requests>=2.7.0->quandl) (2020.6.20)\n",
      "Requirement already satisfied: urllib3!=1.25.0,!=1.25.1,<1.26,>=1.21.1 in c:\\users\\arifu\\anaconda3\\lib\\site-packages (from requests>=2.7.0->quandl) (1.25.11)\n",
      "Requirement already satisfied: chardet<4,>=3.0.2 in c:\\users\\arifu\\anaconda3\\lib\\site-packages (from requests>=2.7.0->quandl) (3.0.4)\n",
      "Requirement already satisfied: idna<3,>=2.5 in c:\\users\\arifu\\anaconda3\\lib\\site-packages (from requests>=2.7.0->quandl) (2.10)\n",
      "Requirement already satisfied: pytz>=2017.2 in c:\\users\\arifu\\anaconda3\\lib\\site-packages (from pandas>=0.14->quandl) (2020.1)\n"
     ]
    }
   ],
   "source": [
    "pip install quandl "
   ]
  },
  {
   "cell_type": "markdown",
   "metadata": {},
   "source": [
    "^Required to install quandl for the first time"
   ]
  },
  {
   "cell_type": "code",
   "execution_count": 2,
   "metadata": {},
   "outputs": [],
   "source": [
    "#Imports all packages\n",
    "from bs4 import BeautifulSoup\n",
    "from datetime import datetime\n",
    "import pandas as pd\n",
    "import requests\n",
    "import re\n",
    "import json\n",
    "import quandl\n",
    "import matplotlib.pyplot as plt\n",
    "import numpy as np\n",
    "import statsmodels.api as sm"
   ]
  },
  {
   "cell_type": "markdown",
   "metadata": {},
   "source": [
    "Section 1: Interest Rate Data Acquisition via API"
   ]
  },
  {
   "cell_type": "code",
   "execution_count": 3,
   "metadata": {},
   "outputs": [],
   "source": [
    "quandl.ApiConfig.api_key = \"21zHsYK7gkPQWCpzQHdc\" #Unique API key\n",
    "\n",
    "UK_quand=quandl.get(\"BOE/IUALBEDR\", authtoken=quandl.ApiConfig.api_key, start_date=\"2015-12-31\", end_date=\"2019-12-31\", returns=\"numpy\")\n",
    "#Uses built-in function from data package to recall annual Base rate data from online database as a numpy array with specified start/end dates\n",
    "UK_int=pd.DataFrame(UK_quand) #Builds DataFrame from numpy array\n",
    "\n",
    "US_quand=quandl.get(\"FED/FL072052006_A\", authtoken=quandl.ApiConfig.api_key, start_date=\"2015-12-31\", end_date=\"2019-12-31\", returns=\"numpy\")\n",
    "US_int=pd.DataFrame(US_quand) #Same for the United State database (Russia not available in quandl)\n"
   ]
  },
  {
   "cell_type": "markdown",
   "metadata": {},
   "source": [
    "Section 2: Interest Rate Data Acquisition via Data Scraping"
   ]
  },
  {
   "cell_type": "code",
   "execution_count": 4,
   "metadata": {},
   "outputs": [],
   "source": [
    "url=\"https://www.cbr.ru/eng/hd_base/KeyRate/?UniDbQuery.Posted=True&UniDbQuery.From=31%2F12%2F2015&UniDbQuery.To=31%2F12%2F2019\"\n",
    "page=requests.get(url) #Uses requests function to obtain URL data\n",
    "soup=BeautifulSoup(page.content, 'html.parser') #Translates and returns data in HTML format\n",
    "rows=soup.find_all('tr') #Generates a list of all instances for 'tr' which denotes each row of the table\n",
    "row_list=[] #Empty list to help count rows\n",
    "for i in range(1,len(rows)): \n",
    "    find=rows[i].find_all('td') #Returns the values in each row (2 per row) while retaining the original (table) formatting\n",
    "    for n in range(len(find)): #Iterates for the number of rows\n",
    "        find[n]=str(find[n]) #Converts into a string for charapcter manipulation\n",
    "        find[n]=find[n].replace('<td>', '') #Removes any instances of <td> and </td>\n",
    "        find[n]=find[n].replace('</td>', '')\n",
    "    find[1]=float(find[1]) #Converts all values from the 2nd row onwards into floats (1st row is the table head)\n",
    "    row_list.append(find) #Appends all entries into the complete row list\n",
    "    \n",
    "RUS_int=pd.DataFrame(row_list, columns=['Date', 'Value']) #Generates DataFrame from list \n",
    "RUS_int['Date']=pd.to_datetime(RUS_int['Date']) #Changes all values in the Date column into datetime  \n",
    "\n",
    "int_list=[RUS_int.iloc[989],RUS_int.iloc[741],RUS_int.iloc[494],RUS_int.iloc[248],RUS_int.iloc[0]] \n",
    "#Creates a new list of rows which correspond to the final date in each year. \n",
    "#Indexes were found using the dates below and a boolean operator since there are 989 rows\n",
    "RUS_int=pd.DataFrame(int_list, columns=['Date', 'Value'], index=range(5)) #Generates DataFrame from new list \n",
    "\n",
    "#End of year dates (Russian Central bank data was very inconsistent visit URL for more information)\n",
    "#2019-12-31\n",
    "#2018-12-28\n",
    "#2017-12-29\n",
    "#2016-12-30\n",
    "#2015-12-31"
   ]
  },
  {
   "cell_type": "markdown",
   "metadata": {},
   "source": [
    "Section 3: Military Expenditure Data Function via Data Scraping"
   ]
  },
  {
   "cell_type": "code",
   "execution_count": 5,
   "metadata": {},
   "outputs": [],
   "source": [
    "#Mil Expenditure Data Scrape:\n",
    "def Mil_Exp(url): #Defines function\n",
    "    \"\"\"\n",
    "    inputs: A string  \n",
    "    output: A dataframe \n",
    "    A function that takes a URL and generates a dataframe showing the national Military Expenditure from 2015-2019:\n",
    "    \"\"\"  \n",
    "    page=requests.get(url) #Uses requests function to obtain URL data\n",
    "    soup=BeautifulSoup(page.content, 'html.parser')\n",
    "    rows=soup.find_all('tbody') #Generates a list of all instances of tbody (since there are multiple tables on the webpage and the desired table is the 2nd of the two)\n",
    "    td=[] #Empty lists to help count\n",
    "    date_list=[]\n",
    "    val_list=[]\n",
    "    tr=rows[1].find_all('tr') #Generates a new list of all instances of tr within tbody denoting the data contained in each row while retaining the original format\n",
    "    for n in range(6): #Iterates for 6 rows (instead of 5 due to inconsistencies in formatting for Russian data)\n",
    "        td.append(tr[n].find_all('td')) #Generates a list of all instances of td and appends onto empty list in the original format\n",
    "        td[n][1]=td[n][1].text.replace('$', '') #Returns the 2nd column of the nth position in the list as text and removes the symbol\n",
    "        td[n][1]=td[n][1].replace('B', '') #The nth position in the row represents the nth row in the table\n",
    "        date_list.append(td[n][0].text) #Appends the 1st column (Date) of the nth row as text onto a new list\n",
    "        val_list.append(float(td[n][1])) #Appends the 2nd column (Expenditure) of the nth row as text onto a new list\n",
    "    data={'Year':date_list, 'Billions (USD)':val_list } #Creates a dictionary to compile all information\n",
    "    Mil=pd.DataFrame(data).iloc[::-1] #Genrates Dataframe from dictionary and also reverses the index (chronological order)\n",
    "    Mil=Mil.apply(pd.to_numeric, errors='coerce') #Turns every value into a float and creates an error where N/A\n",
    "    Mil=Mil.dropna() #Deletes all NaN rows (Used to get rid of 1st null row in Russian data table)\n",
    "    Mil['Year']=pd.to_numeric(Mil['Year'], downcast='integer') #Reassigns the year column to be integers\n",
    "    Mil=Mil.tail(5) #Takes the last 5 values in the table (which after reversal is 2015-2019)\n",
    "    Mil=Mil.reset_index(drop=True) #Resets the index after index reversal and deletion\n",
    "    return Mil #Output\n",
    "\n",
    "url_1=\"https://www.macrotrends.net/countries/GBR/united-kingdom/military-spending-defense-budget\" #URLs for each nation\n",
    "url_2=\"https://www.macrotrends.net/countries/USA/united-states/military-spending-defense-budget\"\n",
    "url_3=\"https://www.macrotrends.net/countries/RUS/russia/military-spending-defense-budget\" #Visit URL to see the 1st row of the right table\n",
    "\n",
    "UK_Mil=Mil_Exp(url_1) #Executes the custom function on a URL and assigns it to the corresponding database\n",
    "US_Mil=Mil_Exp(url_2)\n",
    "RUS_Mil=Mil_Exp(url_3)"
   ]
  },
  {
   "cell_type": "markdown",
   "metadata": {},
   "source": [
    "Section 4: Data Tabulation"
   ]
  },
  {
   "cell_type": "code",
   "execution_count": 6,
   "metadata": {},
   "outputs": [
    {
     "data": {
      "text/html": [
       "<div>\n",
       "<style scoped>\n",
       "    .dataframe tbody tr th:only-of-type {\n",
       "        vertical-align: middle;\n",
       "    }\n",
       "\n",
       "    .dataframe tbody tr th {\n",
       "        vertical-align: top;\n",
       "    }\n",
       "\n",
       "    .dataframe thead th {\n",
       "        text-align: right;\n",
       "    }\n",
       "</style>\n",
       "<table border=\"1\" class=\"dataframe\">\n",
       "  <thead>\n",
       "    <tr style=\"text-align: right;\">\n",
       "      <th></th>\n",
       "      <th>Year</th>\n",
       "      <th>Interest Rate</th>\n",
       "      <th>Expenditure (USD Billions)</th>\n",
       "    </tr>\n",
       "  </thead>\n",
       "  <tbody>\n",
       "    <tr>\n",
       "      <th>0</th>\n",
       "      <td>2015</td>\n",
       "      <td>0.50</td>\n",
       "      <td>53.86</td>\n",
       "    </tr>\n",
       "    <tr>\n",
       "      <th>1</th>\n",
       "      <td>2016</td>\n",
       "      <td>0.25</td>\n",
       "      <td>48.12</td>\n",
       "    </tr>\n",
       "    <tr>\n",
       "      <th>2</th>\n",
       "      <td>2017</td>\n",
       "      <td>0.50</td>\n",
       "      <td>46.43</td>\n",
       "    </tr>\n",
       "    <tr>\n",
       "      <th>3</th>\n",
       "      <td>2018</td>\n",
       "      <td>0.75</td>\n",
       "      <td>49.89</td>\n",
       "    </tr>\n",
       "    <tr>\n",
       "      <th>4</th>\n",
       "      <td>2019</td>\n",
       "      <td>0.75</td>\n",
       "      <td>48.65</td>\n",
       "    </tr>\n",
       "  </tbody>\n",
       "</table>\n",
       "</div>"
      ],
      "text/plain": [
       "   Year  Interest Rate  Expenditure (USD Billions)\n",
       "0  2015           0.50                       53.86\n",
       "1  2016           0.25                       48.12\n",
       "2  2017           0.50                       46.43\n",
       "3  2018           0.75                       49.89\n",
       "4  2019           0.75                       48.65"
      ]
     },
     "execution_count": 6,
     "metadata": {},
     "output_type": "execute_result"
    }
   ],
   "source": [
    "UK_data={'Year':UK_Mil['Year'],'Interest Rate':UK_int['Value'],'Expenditure (USD Billions)':UK_Mil['Billions (USD)']} #Generates Dictionary\n",
    "UK_tab=pd.DataFrame(UK_data) #Generates Compilied Dataframe from dictionary\n",
    "UK_tab"
   ]
  },
  {
   "cell_type": "code",
   "execution_count": 7,
   "metadata": {},
   "outputs": [
    {
     "data": {
      "text/html": [
       "<div>\n",
       "<style scoped>\n",
       "    .dataframe tbody tr th:only-of-type {\n",
       "        vertical-align: middle;\n",
       "    }\n",
       "\n",
       "    .dataframe tbody tr th {\n",
       "        vertical-align: top;\n",
       "    }\n",
       "\n",
       "    .dataframe thead th {\n",
       "        text-align: right;\n",
       "    }\n",
       "</style>\n",
       "<table border=\"1\" class=\"dataframe\">\n",
       "  <thead>\n",
       "    <tr style=\"text-align: right;\">\n",
       "      <th></th>\n",
       "      <th>Year</th>\n",
       "      <th>Interest Rate</th>\n",
       "      <th>Expenditure (USD Billions)</th>\n",
       "    </tr>\n",
       "  </thead>\n",
       "  <tbody>\n",
       "    <tr>\n",
       "      <th>0</th>\n",
       "      <td>2015</td>\n",
       "      <td>0.24</td>\n",
       "      <td>633.83</td>\n",
       "    </tr>\n",
       "    <tr>\n",
       "      <th>1</th>\n",
       "      <td>2016</td>\n",
       "      <td>0.54</td>\n",
       "      <td>639.86</td>\n",
       "    </tr>\n",
       "    <tr>\n",
       "      <th>2</th>\n",
       "      <td>2017</td>\n",
       "      <td>1.30</td>\n",
       "      <td>646.75</td>\n",
       "    </tr>\n",
       "    <tr>\n",
       "      <th>3</th>\n",
       "      <td>2018</td>\n",
       "      <td>2.27</td>\n",
       "      <td>682.49</td>\n",
       "    </tr>\n",
       "    <tr>\n",
       "      <th>4</th>\n",
       "      <td>2019</td>\n",
       "      <td>1.55</td>\n",
       "      <td>731.75</td>\n",
       "    </tr>\n",
       "  </tbody>\n",
       "</table>\n",
       "</div>"
      ],
      "text/plain": [
       "   Year  Interest Rate  Expenditure (USD Billions)\n",
       "0  2015           0.24                      633.83\n",
       "1  2016           0.54                      639.86\n",
       "2  2017           1.30                      646.75\n",
       "3  2018           2.27                      682.49\n",
       "4  2019           1.55                      731.75"
      ]
     },
     "execution_count": 7,
     "metadata": {},
     "output_type": "execute_result"
    }
   ],
   "source": [
    "US_data={'Year':US_Mil['Year'],'Interest Rate':US_int['Value'],'Expenditure (USD Billions)':US_Mil['Billions (USD)']} #Generates Dictionary\n",
    "US_tab=pd.DataFrame(US_data) #Generates Compilied Dataframe from dictionary\n",
    "US_tab"
   ]
  },
  {
   "cell_type": "code",
   "execution_count": 8,
   "metadata": {},
   "outputs": [
    {
     "data": {
      "text/html": [
       "<div>\n",
       "<style scoped>\n",
       "    .dataframe tbody tr th:only-of-type {\n",
       "        vertical-align: middle;\n",
       "    }\n",
       "\n",
       "    .dataframe tbody tr th {\n",
       "        vertical-align: top;\n",
       "    }\n",
       "\n",
       "    .dataframe thead th {\n",
       "        text-align: right;\n",
       "    }\n",
       "</style>\n",
       "<table border=\"1\" class=\"dataframe\">\n",
       "  <thead>\n",
       "    <tr style=\"text-align: right;\">\n",
       "      <th></th>\n",
       "      <th>Year</th>\n",
       "      <th>Interest Rate</th>\n",
       "      <th>Expenditure (USD Billions)</th>\n",
       "    </tr>\n",
       "  </thead>\n",
       "  <tbody>\n",
       "    <tr>\n",
       "      <th>0</th>\n",
       "      <td>2015</td>\n",
       "      <td>11.00</td>\n",
       "      <td>66.42</td>\n",
       "    </tr>\n",
       "    <tr>\n",
       "      <th>1</th>\n",
       "      <td>2016</td>\n",
       "      <td>10.00</td>\n",
       "      <td>69.25</td>\n",
       "    </tr>\n",
       "    <tr>\n",
       "      <th>2</th>\n",
       "      <td>2017</td>\n",
       "      <td>7.75</td>\n",
       "      <td>66.53</td>\n",
       "    </tr>\n",
       "    <tr>\n",
       "      <th>3</th>\n",
       "      <td>2018</td>\n",
       "      <td>7.75</td>\n",
       "      <td>61.39</td>\n",
       "    </tr>\n",
       "    <tr>\n",
       "      <th>4</th>\n",
       "      <td>2019</td>\n",
       "      <td>6.25</td>\n",
       "      <td>65.10</td>\n",
       "    </tr>\n",
       "  </tbody>\n",
       "</table>\n",
       "</div>"
      ],
      "text/plain": [
       "   Year  Interest Rate  Expenditure (USD Billions)\n",
       "0  2015          11.00                       66.42\n",
       "1  2016          10.00                       69.25\n",
       "2  2017           7.75                       66.53\n",
       "3  2018           7.75                       61.39\n",
       "4  2019           6.25                       65.10"
      ]
     },
     "execution_count": 8,
     "metadata": {},
     "output_type": "execute_result"
    }
   ],
   "source": [
    "RUS_data={'Year':RUS_Mil['Year'],'Interest Rate':RUS_int['Value'],'Expenditure (USD Billions)':RUS_Mil['Billions (USD)']} #Generates Dictionary\n",
    "RUS_tab=pd.DataFrame(RUS_data) #Generates Compilied Dataframe from dictionary\n",
    "RUS_tab"
   ]
  },
  {
   "cell_type": "markdown",
   "metadata": {},
   "source": [
    "Section 5: Basic Data Analysis"
   ]
  },
  {
   "cell_type": "code",
   "execution_count": 9,
   "metadata": {},
   "outputs": [],
   "source": [
    "UK_int_mean=UK_tab['Interest Rate'].mean() #Computes the mean for the column \n",
    "UK_Mil_mean=UK_tab['Expenditure (USD Billions)'].mean()\n",
    "UK_int_max=UK_tab['Year'][UK_tab['Interest Rate'].idxmax()]#Computes the index of the highest 'Interest Rate' and returns the year of the index\n",
    "UK_Mil_max=UK_tab['Year'][UK_tab['Expenditure (USD Billions)'].idxmax()] #Computes the index of the maximum Expenditure and returns the year of the index\n",
    "UK_int_min=UK_tab['Year'][UK_tab['Interest Rate'].idxmin()] #Computes the index of the lowest 'Interest Rate' and returns the year of the index\n",
    "UK_Mil_min=UK_tab['Year'][UK_tab['Expenditure (USD Billions)'].idxmin()] #Computes the index of the minimum in Expenditure and returns the year of the index\n",
    "\n",
    "US_int_mean=US_tab['Interest Rate'].mean() #The same has been computed for the other two nations\n",
    "US_Mil_mean=US_tab['Expenditure (USD Billions)'].mean()\n",
    "US_int_max=US_tab['Year'][US_tab['Interest Rate'].idxmax()]\n",
    "US_Mil_max=US_tab['Year'][US_tab['Expenditure (USD Billions)'].idxmax()]\n",
    "US_int_min=US_tab['Year'][US_tab['Interest Rate'].idxmin()]\n",
    "US_Mil_min=US_tab['Year'][US_tab['Expenditure (USD Billions)'].idxmin()]\n",
    "\n",
    "RUS_int_mean=RUS_tab['Interest Rate'].mean()\n",
    "RUS_Mil_mean=RUS_tab['Expenditure (USD Billions)'].mean()\n",
    "RUS_int_max=RUS_tab['Year'][RUS_tab['Interest Rate'].idxmax()]\n",
    "RUS_Mil_max=RUS_tab['Year'][RUS_tab['Expenditure (USD Billions)'].idxmax()]\n",
    "RUS_int_min=RUS_tab['Year'][RUS_tab['Interest Rate'].idxmin()]\n",
    "RUS_Mil_min=RUS_tab['Year'][RUS_tab['Expenditure (USD Billions)'].idxmin()]"
   ]
  },
  {
   "cell_type": "code",
   "execution_count": 10,
   "metadata": {},
   "outputs": [
    {
     "data": {
      "text/html": [
       "<div>\n",
       "<style scoped>\n",
       "    .dataframe tbody tr th:only-of-type {\n",
       "        vertical-align: middle;\n",
       "    }\n",
       "\n",
       "    .dataframe tbody tr th {\n",
       "        vertical-align: top;\n",
       "    }\n",
       "\n",
       "    .dataframe thead th {\n",
       "        text-align: right;\n",
       "    }\n",
       "</style>\n",
       "<table border=\"1\" class=\"dataframe\">\n",
       "  <thead>\n",
       "    <tr style=\"text-align: right;\">\n",
       "      <th></th>\n",
       "      <th>Interest Rate</th>\n",
       "      <th>Expenditure (USD Billions)</th>\n",
       "    </tr>\n",
       "  </thead>\n",
       "  <tbody>\n",
       "    <tr>\n",
       "      <th>Mean:</th>\n",
       "      <td>0.55</td>\n",
       "      <td>49.39</td>\n",
       "    </tr>\n",
       "    <tr>\n",
       "      <th>Maximum Year:</th>\n",
       "      <td>2018.00</td>\n",
       "      <td>2015.00</td>\n",
       "    </tr>\n",
       "    <tr>\n",
       "      <th>Minimum Year:</th>\n",
       "      <td>2016.00</td>\n",
       "      <td>2017.00</td>\n",
       "    </tr>\n",
       "  </tbody>\n",
       "</table>\n",
       "</div>"
      ],
      "text/plain": [
       "               Interest Rate  Expenditure (USD Billions)\n",
       "Mean:                   0.55                       49.39\n",
       "Maximum Year:        2018.00                     2015.00\n",
       "Minimum Year:        2016.00                     2017.00"
      ]
     },
     "execution_count": 10,
     "metadata": {},
     "output_type": "execute_result"
    }
   ],
   "source": [
    "index_list=['Mean:', 'Maximum Year:', 'Minimum Year:'] #Creates lists to help simplify dictionary\n",
    "UK_int_list=[UK_int_mean, UK_int_max, UK_int_min]\n",
    "UK_Mil_list=[UK_Mil_mean, UK_Mil_max, UK_Mil_min]\n",
    "UK_base={'Interest Rate':UK_int_list, 'Expenditure (USD Billions)':UK_Mil_list} #Generates Dictionary\n",
    "UK_basic=pd.DataFrame(UK_base, index=[index_list]) #Generates Compilied Dataframe from dictionary\n",
    "UK_basic"
   ]
  },
  {
   "cell_type": "code",
   "execution_count": 11,
   "metadata": {},
   "outputs": [
    {
     "data": {
      "text/html": [
       "<div>\n",
       "<style scoped>\n",
       "    .dataframe tbody tr th:only-of-type {\n",
       "        vertical-align: middle;\n",
       "    }\n",
       "\n",
       "    .dataframe tbody tr th {\n",
       "        vertical-align: top;\n",
       "    }\n",
       "\n",
       "    .dataframe thead th {\n",
       "        text-align: right;\n",
       "    }\n",
       "</style>\n",
       "<table border=\"1\" class=\"dataframe\">\n",
       "  <thead>\n",
       "    <tr style=\"text-align: right;\">\n",
       "      <th></th>\n",
       "      <th>Interest Rate</th>\n",
       "      <th>Expenditure (USD Billions)</th>\n",
       "    </tr>\n",
       "  </thead>\n",
       "  <tbody>\n",
       "    <tr>\n",
       "      <th>Mean:</th>\n",
       "      <td>1.18</td>\n",
       "      <td>666.936</td>\n",
       "    </tr>\n",
       "    <tr>\n",
       "      <th>Maximum Year:</th>\n",
       "      <td>2018.00</td>\n",
       "      <td>2019.000</td>\n",
       "    </tr>\n",
       "    <tr>\n",
       "      <th>Minimum Year:</th>\n",
       "      <td>2015.00</td>\n",
       "      <td>2015.000</td>\n",
       "    </tr>\n",
       "  </tbody>\n",
       "</table>\n",
       "</div>"
      ],
      "text/plain": [
       "               Interest Rate  Expenditure (USD Billions)\n",
       "Mean:                   1.18                     666.936\n",
       "Maximum Year:        2018.00                    2019.000\n",
       "Minimum Year:        2015.00                    2015.000"
      ]
     },
     "execution_count": 11,
     "metadata": {},
     "output_type": "execute_result"
    }
   ],
   "source": [
    "index_list=['Mean:', 'Maximum Year:', 'Minimum Year:'] #Creates lists to help simplify dictionary\n",
    "US_int_list=[US_int_mean, US_int_max, US_int_min]\n",
    "US_Mil_list=[US_Mil_mean, US_Mil_max, US_Mil_min]\n",
    "US_base={'Interest Rate':US_int_list, 'Expenditure (USD Billions)':US_Mil_list}\n",
    "US_basic=pd.DataFrame(US_base, index=[index_list]) #Generates Compilied Dataframe from dictionary\n",
    "US_basic"
   ]
  },
  {
   "cell_type": "code",
   "execution_count": 12,
   "metadata": {},
   "outputs": [
    {
     "data": {
      "text/html": [
       "<div>\n",
       "<style scoped>\n",
       "    .dataframe tbody tr th:only-of-type {\n",
       "        vertical-align: middle;\n",
       "    }\n",
       "\n",
       "    .dataframe tbody tr th {\n",
       "        vertical-align: top;\n",
       "    }\n",
       "\n",
       "    .dataframe thead th {\n",
       "        text-align: right;\n",
       "    }\n",
       "</style>\n",
       "<table border=\"1\" class=\"dataframe\">\n",
       "  <thead>\n",
       "    <tr style=\"text-align: right;\">\n",
       "      <th></th>\n",
       "      <th>Interest Rate</th>\n",
       "      <th>Expenditure (USD Billions)</th>\n",
       "    </tr>\n",
       "  </thead>\n",
       "  <tbody>\n",
       "    <tr>\n",
       "      <th>Mean:</th>\n",
       "      <td>8.55</td>\n",
       "      <td>65.738</td>\n",
       "    </tr>\n",
       "    <tr>\n",
       "      <th>Maximum Year:</th>\n",
       "      <td>2015.00</td>\n",
       "      <td>2016.000</td>\n",
       "    </tr>\n",
       "    <tr>\n",
       "      <th>Minimum Year:</th>\n",
       "      <td>2019.00</td>\n",
       "      <td>2018.000</td>\n",
       "    </tr>\n",
       "  </tbody>\n",
       "</table>\n",
       "</div>"
      ],
      "text/plain": [
       "               Interest Rate  Expenditure (USD Billions)\n",
       "Mean:                   8.55                      65.738\n",
       "Maximum Year:        2015.00                    2016.000\n",
       "Minimum Year:        2019.00                    2018.000"
      ]
     },
     "execution_count": 12,
     "metadata": {},
     "output_type": "execute_result"
    }
   ],
   "source": [
    "index_list=['Mean:', 'Maximum Year:', 'Minimum Year:'] #Creates lists to help simplify dictionary\n",
    "RUS_int_list=[RUS_int_mean, RUS_int_max, RUS_int_min]\n",
    "RUS_Mil_list=[RUS_Mil_mean, RUS_Mil_max, RUS_Mil_min]\n",
    "RUS_base={'Interest Rate':RUS_int_list, 'Expenditure (USD Billions)':RUS_Mil_list}\n",
    "RUS_basic=pd.DataFrame(RUS_base, index=[index_list]) #Generates Compilied Dataframe from dictionary\n",
    "RUS_basic"
   ]
  },
  {
   "cell_type": "code",
   "execution_count": 36,
   "metadata": {},
   "outputs": [
    {
     "data": {
      "text/html": [
       "<div>\n",
       "<style scoped>\n",
       "    .dataframe tbody tr th:only-of-type {\n",
       "        vertical-align: middle;\n",
       "    }\n",
       "\n",
       "    .dataframe tbody tr th {\n",
       "        vertical-align: top;\n",
       "    }\n",
       "\n",
       "    .dataframe thead th {\n",
       "        text-align: right;\n",
       "    }\n",
       "</style>\n",
       "<table border=\"1\" class=\"dataframe\">\n",
       "  <thead>\n",
       "    <tr style=\"text-align: right;\">\n",
       "      <th></th>\n",
       "      <th>Interest Rate</th>\n",
       "      <th>Expenditure (USD Billions)</th>\n",
       "    </tr>\n",
       "  </thead>\n",
       "  <tbody>\n",
       "    <tr>\n",
       "      <th>Interest Rate</th>\n",
       "      <td>1.000000</td>\n",
       "      <td>0.110283</td>\n",
       "    </tr>\n",
       "    <tr>\n",
       "      <th>Expenditure (USD Billions)</th>\n",
       "      <td>0.110283</td>\n",
       "      <td>1.000000</td>\n",
       "    </tr>\n",
       "    <tr>\n",
       "      <th>Interest Rate</th>\n",
       "      <td>1.000000</td>\n",
       "      <td>0.368932</td>\n",
       "    </tr>\n",
       "    <tr>\n",
       "      <th>Expenditure (USD Billions)</th>\n",
       "      <td>0.368932</td>\n",
       "      <td>1.000000</td>\n",
       "    </tr>\n",
       "  </tbody>\n",
       "</table>\n",
       "</div>"
      ],
      "text/plain": [
       "                            Interest Rate  Expenditure (USD Billions)\n",
       "Interest Rate                    1.000000                    0.110283\n",
       "Expenditure (USD Billions)       0.110283                    1.000000\n",
       "Interest Rate                    1.000000                    0.368932\n",
       "Expenditure (USD Billions)       0.368932                    1.000000"
      ]
     },
     "execution_count": 36,
     "metadata": {},
     "output_type": "execute_result"
    }
   ],
   "source": [
    "UK_pcorr=UK_tab.corr(method='pearson').drop('Year',1).drop('Year',0) #Generates PMCC matrix as a dataframe and drops 'Year' row and column\n",
    "UK_scorr=UK_tab.corr(method='spearman').drop('Year',1).drop('Year',0) #Generates SRCC matrix as a dataframe and drops 'Year' row and column\n",
    "UK_corr=pd.concat([UK_pcorr, UK_scorr]) #Concatonates two Dataframes from the list into one larger Dataframe\n",
    "UK_corr #Outputs Dataframe with first non-1 values being PMCC and SRCC respectivley "
   ]
  },
  {
   "cell_type": "code",
   "execution_count": 14,
   "metadata": {},
   "outputs": [
    {
     "data": {
      "text/html": [
       "<div>\n",
       "<style scoped>\n",
       "    .dataframe tbody tr th:only-of-type {\n",
       "        vertical-align: middle;\n",
       "    }\n",
       "\n",
       "    .dataframe tbody tr th {\n",
       "        vertical-align: top;\n",
       "    }\n",
       "\n",
       "    .dataframe thead th {\n",
       "        text-align: right;\n",
       "    }\n",
       "</style>\n",
       "<table border=\"1\" class=\"dataframe\">\n",
       "  <thead>\n",
       "    <tr style=\"text-align: right;\">\n",
       "      <th></th>\n",
       "      <th>Interest Rate</th>\n",
       "      <th>Expenditure (USD Billions)</th>\n",
       "    </tr>\n",
       "  </thead>\n",
       "  <tbody>\n",
       "    <tr>\n",
       "      <th>Interest Rate</th>\n",
       "      <td>1.000000</td>\n",
       "      <td>0.655789</td>\n",
       "    </tr>\n",
       "    <tr>\n",
       "      <th>Expenditure (USD Billions)</th>\n",
       "      <td>0.655789</td>\n",
       "      <td>1.000000</td>\n",
       "    </tr>\n",
       "    <tr>\n",
       "      <th>Interest Rate</th>\n",
       "      <td>1.000000</td>\n",
       "      <td>0.900000</td>\n",
       "    </tr>\n",
       "    <tr>\n",
       "      <th>Expenditure (USD Billions)</th>\n",
       "      <td>0.900000</td>\n",
       "      <td>1.000000</td>\n",
       "    </tr>\n",
       "  </tbody>\n",
       "</table>\n",
       "</div>"
      ],
      "text/plain": [
       "                            Interest Rate  Expenditure (USD Billions)\n",
       "Interest Rate                    1.000000                    0.655789\n",
       "Expenditure (USD Billions)       0.655789                    1.000000\n",
       "Interest Rate                    1.000000                    0.900000\n",
       "Expenditure (USD Billions)       0.900000                    1.000000"
      ]
     },
     "execution_count": 14,
     "metadata": {},
     "output_type": "execute_result"
    }
   ],
   "source": [
    "US_pcorr=US_tab.corr(method='pearson').drop('Year',1).drop('Year',0) #Same has been computed for US\n",
    "US_scorr=US_tab.corr(method='spearman').drop('Year',1).drop('Year',0)\n",
    "US_corr=pd.concat([US_pcorr, US_scorr])\n",
    "US_corr"
   ]
  },
  {
   "cell_type": "code",
   "execution_count": 15,
   "metadata": {},
   "outputs": [
    {
     "data": {
      "text/html": [
       "<div>\n",
       "<style scoped>\n",
       "    .dataframe tbody tr th:only-of-type {\n",
       "        vertical-align: middle;\n",
       "    }\n",
       "\n",
       "    .dataframe tbody tr th {\n",
       "        vertical-align: top;\n",
       "    }\n",
       "\n",
       "    .dataframe thead th {\n",
       "        text-align: right;\n",
       "    }\n",
       "</style>\n",
       "<table border=\"1\" class=\"dataframe\">\n",
       "  <thead>\n",
       "    <tr style=\"text-align: right;\">\n",
       "      <th></th>\n",
       "      <th>Interest Rate</th>\n",
       "      <th>Expenditure (USD Billions)</th>\n",
       "    </tr>\n",
       "  </thead>\n",
       "  <tbody>\n",
       "    <tr>\n",
       "      <th>Interest Rate</th>\n",
       "      <td>1.000000</td>\n",
       "      <td>0.505293</td>\n",
       "    </tr>\n",
       "    <tr>\n",
       "      <th>Expenditure (USD Billions)</th>\n",
       "      <td>0.505293</td>\n",
       "      <td>1.000000</td>\n",
       "    </tr>\n",
       "    <tr>\n",
       "      <th>Interest Rate</th>\n",
       "      <td>1.000000</td>\n",
       "      <td>0.461690</td>\n",
       "    </tr>\n",
       "    <tr>\n",
       "      <th>Expenditure (USD Billions)</th>\n",
       "      <td>0.461690</td>\n",
       "      <td>1.000000</td>\n",
       "    </tr>\n",
       "  </tbody>\n",
       "</table>\n",
       "</div>"
      ],
      "text/plain": [
       "                            Interest Rate  Expenditure (USD Billions)\n",
       "Interest Rate                    1.000000                    0.505293\n",
       "Expenditure (USD Billions)       0.505293                    1.000000\n",
       "Interest Rate                    1.000000                    0.461690\n",
       "Expenditure (USD Billions)       0.461690                    1.000000"
      ]
     },
     "execution_count": 15,
     "metadata": {},
     "output_type": "execute_result"
    }
   ],
   "source": [
    "RUS_pcorr=RUS_tab.corr(method='pearson').drop('Year',1).drop('Year',0) #Same has been computed for RUS\n",
    "RUS_scorr=RUS_tab.corr(method='spearman').drop('Year',1).drop('Year',0)\n",
    "RUS_corr=pd.concat([RUS_pcorr, RUS_scorr])\n",
    "RUS_corr"
   ]
  },
  {
   "cell_type": "markdown",
   "metadata": {},
   "source": [
    "Section 6: OLS Data Analysis"
   ]
  },
  {
   "cell_type": "code",
   "execution_count": 16,
   "metadata": {},
   "outputs": [
    {
     "name": "stderr",
     "output_type": "stream",
     "text": [
      "C:\\Users\\Arifu\\anaconda3\\lib\\site-packages\\statsmodels\\stats\\stattools.py:74: ValueWarning: omni_normtest is not valid with less than 8 observations; 5 samples were given.\n",
      "  warn(\"omni_normtest is not valid with less than 8 observations; %i \"\n"
     ]
    },
    {
     "data": {
      "text/html": [
       "<table class=\"simpletable\">\n",
       "<caption>OLS Regression Results</caption>\n",
       "<tr>\n",
       "  <th>Dep. Variable:</th>      <td>Interest Rate</td>  <th>  R-squared (uncentered):</th>      <td>   0.897</td>\n",
       "</tr>\n",
       "<tr>\n",
       "  <th>Model:</th>                   <td>OLS</td>       <th>  Adj. R-squared (uncentered):</th> <td>   0.872</td>\n",
       "</tr>\n",
       "<tr>\n",
       "  <th>Method:</th>             <td>Least Squares</td>  <th>  F-statistic:       </th>          <td>   34.99</td>\n",
       "</tr>\n",
       "<tr>\n",
       "  <th>Date:</th>             <td>Sun, 25 Apr 2021</td> <th>  Prob (F-statistic):</th>           <td>0.00409</td>\n",
       "</tr>\n",
       "<tr>\n",
       "  <th>Time:</th>                 <td>02:11:30</td>     <th>  Log-Likelihood:    </th>          <td>  1.3132</td>\n",
       "</tr>\n",
       "<tr>\n",
       "  <th>No. Observations:</th>      <td>     5</td>      <th>  AIC:               </th>          <td> -0.6264</td>\n",
       "</tr>\n",
       "<tr>\n",
       "  <th>Df Residuals:</th>          <td>     4</td>      <th>  BIC:               </th>          <td>  -1.017</td>\n",
       "</tr>\n",
       "<tr>\n",
       "  <th>Df Model:</th>              <td>     1</td>      <th>                     </th>              <td> </td>   \n",
       "</tr>\n",
       "<tr>\n",
       "  <th>Covariance Type:</th>      <td>nonrobust</td>    <th>                     </th>              <td> </td>   \n",
       "</tr>\n",
       "</table>\n",
       "<table class=\"simpletable\">\n",
       "<tr>\n",
       "               <td></td>                 <th>coef</th>     <th>std err</th>      <th>t</th>      <th>P>|t|</th>  <th>[0.025</th>    <th>0.975]</th>  \n",
       "</tr>\n",
       "<tr>\n",
       "  <th>Expenditure (USD Billions)</th> <td>    0.0111</td> <td>    0.002</td> <td>    5.915</td> <td> 0.004</td> <td>    0.006</td> <td>    0.016</td>\n",
       "</tr>\n",
       "</table>\n",
       "<table class=\"simpletable\">\n",
       "<tr>\n",
       "  <th>Omnibus:</th>       <td>   nan</td> <th>  Durbin-Watson:     </th> <td>   0.877</td>\n",
       "</tr>\n",
       "<tr>\n",
       "  <th>Prob(Omnibus):</th> <td>   nan</td> <th>  Jarque-Bera (JB):  </th> <td>   0.413</td>\n",
       "</tr>\n",
       "<tr>\n",
       "  <th>Skew:</th>          <td>-0.248</td> <th>  Prob(JB):          </th> <td>   0.814</td>\n",
       "</tr>\n",
       "<tr>\n",
       "  <th>Kurtosis:</th>      <td> 1.683</td> <th>  Cond. No.          </th> <td>    1.00</td>\n",
       "</tr>\n",
       "</table><br/><br/>Notes:<br/>[1] R² is computed without centering (uncentered) since the model does not contain a constant.<br/>[2] Standard Errors assume that the covariance matrix of the errors is correctly specified."
      ],
      "text/plain": [
       "<class 'statsmodels.iolib.summary.Summary'>\n",
       "\"\"\"\n",
       "                                 OLS Regression Results                                \n",
       "=======================================================================================\n",
       "Dep. Variable:          Interest Rate   R-squared (uncentered):                   0.897\n",
       "Model:                            OLS   Adj. R-squared (uncentered):              0.872\n",
       "Method:                 Least Squares   F-statistic:                              34.99\n",
       "Date:                Sun, 25 Apr 2021   Prob (F-statistic):                     0.00409\n",
       "Time:                        02:11:30   Log-Likelihood:                          1.3132\n",
       "No. Observations:                   5   AIC:                                    -0.6264\n",
       "Df Residuals:                       4   BIC:                                     -1.017\n",
       "Df Model:                           1                                                  \n",
       "Covariance Type:            nonrobust                                                  \n",
       "==============================================================================================\n",
       "                                 coef    std err          t      P>|t|      [0.025      0.975]\n",
       "----------------------------------------------------------------------------------------------\n",
       "Expenditure (USD Billions)     0.0111      0.002      5.915      0.004       0.006       0.016\n",
       "==============================================================================\n",
       "Omnibus:                          nan   Durbin-Watson:                   0.877\n",
       "Prob(Omnibus):                    nan   Jarque-Bera (JB):                0.413\n",
       "Skew:                          -0.248   Prob(JB):                        0.814\n",
       "Kurtosis:                       1.683   Cond. No.                         1.00\n",
       "==============================================================================\n",
       "\n",
       "Notes:\n",
       "[1] R² is computed without centering (uncentered) since the model does not contain a constant.\n",
       "[2] Standard Errors assume that the covariance matrix of the errors is correctly specified.\n",
       "\"\"\""
      ]
     },
     "execution_count": 16,
     "metadata": {},
     "output_type": "execute_result"
    }
   ],
   "source": [
    "x=UK_tab['Expenditure (USD Billions)'] #Sets the inputs of x and y\n",
    "y=UK_tab['Interest Rate'] \n",
    "UK_ols=sm.OLS(y, x) #Calls the OLS function\n",
    "UK_ols.fit().summary() #Ouputs summary of OLS resgression results for UK"
   ]
  },
  {
   "cell_type": "code",
   "execution_count": 17,
   "metadata": {
    "scrolled": true
   },
   "outputs": [
    {
     "name": "stderr",
     "output_type": "stream",
     "text": [
      "C:\\Users\\Arifu\\anaconda3\\lib\\site-packages\\statsmodels\\stats\\stattools.py:74: ValueWarning: omni_normtest is not valid with less than 8 observations; 5 samples were given.\n",
      "  warn(\"omni_normtest is not valid with less than 8 observations; %i \"\n"
     ]
    },
    {
     "data": {
      "text/html": [
       "<table class=\"simpletable\">\n",
       "<caption>OLS Regression Results</caption>\n",
       "<tr>\n",
       "  <th>Dep. Variable:</th>      <td>Interest Rate</td>  <th>  R-squared (uncentered):</th>      <td>   0.756</td>\n",
       "</tr>\n",
       "<tr>\n",
       "  <th>Model:</th>                   <td>OLS</td>       <th>  Adj. R-squared (uncentered):</th> <td>   0.695</td>\n",
       "</tr>\n",
       "<tr>\n",
       "  <th>Method:</th>             <td>Least Squares</td>  <th>  F-statistic:       </th>          <td>   12.38</td>\n",
       "</tr>\n",
       "<tr>\n",
       "  <th>Date:</th>             <td>Sun, 25 Apr 2021</td> <th>  Prob (F-statistic):</th>           <td>0.0245</td> \n",
       "</tr>\n",
       "<tr>\n",
       "  <th>Time:</th>                 <td>02:11:30</td>     <th>  Log-Likelihood:    </th>          <td> -5.2000</td>\n",
       "</tr>\n",
       "<tr>\n",
       "  <th>No. Observations:</th>      <td>     5</td>      <th>  AIC:               </th>          <td>   12.40</td>\n",
       "</tr>\n",
       "<tr>\n",
       "  <th>Df Residuals:</th>          <td>     4</td>      <th>  BIC:               </th>          <td>   12.01</td>\n",
       "</tr>\n",
       "<tr>\n",
       "  <th>Df Model:</th>              <td>     1</td>      <th>                     </th>              <td> </td>   \n",
       "</tr>\n",
       "<tr>\n",
       "  <th>Covariance Type:</th>      <td>nonrobust</td>    <th>                     </th>              <td> </td>   \n",
       "</tr>\n",
       "</table>\n",
       "<table class=\"simpletable\">\n",
       "<tr>\n",
       "               <td></td>                 <th>coef</th>     <th>std err</th>      <th>t</th>      <th>P>|t|</th>  <th>[0.025</th>    <th>0.975]</th>  \n",
       "</tr>\n",
       "<tr>\n",
       "  <th>Expenditure (USD Billions)</th> <td>    0.0018</td> <td>    0.001</td> <td>    3.518</td> <td> 0.024</td> <td>    0.000</td> <td>    0.003</td>\n",
       "</tr>\n",
       "</table>\n",
       "<table class=\"simpletable\">\n",
       "<tr>\n",
       "  <th>Omnibus:</th>       <td>   nan</td> <th>  Durbin-Watson:     </th> <td>   0.903</td>\n",
       "</tr>\n",
       "<tr>\n",
       "  <th>Prob(Omnibus):</th> <td>   nan</td> <th>  Jarque-Bera (JB):  </th> <td>   0.323</td>\n",
       "</tr>\n",
       "<tr>\n",
       "  <th>Skew:</th>          <td> 0.205</td> <th>  Prob(JB):          </th> <td>   0.851</td>\n",
       "</tr>\n",
       "<tr>\n",
       "  <th>Kurtosis:</th>      <td> 1.824</td> <th>  Cond. No.          </th> <td>    1.00</td>\n",
       "</tr>\n",
       "</table><br/><br/>Notes:<br/>[1] R² is computed without centering (uncentered) since the model does not contain a constant.<br/>[2] Standard Errors assume that the covariance matrix of the errors is correctly specified."
      ],
      "text/plain": [
       "<class 'statsmodels.iolib.summary.Summary'>\n",
       "\"\"\"\n",
       "                                 OLS Regression Results                                \n",
       "=======================================================================================\n",
       "Dep. Variable:          Interest Rate   R-squared (uncentered):                   0.756\n",
       "Model:                            OLS   Adj. R-squared (uncentered):              0.695\n",
       "Method:                 Least Squares   F-statistic:                              12.38\n",
       "Date:                Sun, 25 Apr 2021   Prob (F-statistic):                      0.0245\n",
       "Time:                        02:11:30   Log-Likelihood:                         -5.2000\n",
       "No. Observations:                   5   AIC:                                      12.40\n",
       "Df Residuals:                       4   BIC:                                      12.01\n",
       "Df Model:                           1                                                  \n",
       "Covariance Type:            nonrobust                                                  \n",
       "==============================================================================================\n",
       "                                 coef    std err          t      P>|t|      [0.025      0.975]\n",
       "----------------------------------------------------------------------------------------------\n",
       "Expenditure (USD Billions)     0.0018      0.001      3.518      0.024       0.000       0.003\n",
       "==============================================================================\n",
       "Omnibus:                          nan   Durbin-Watson:                   0.903\n",
       "Prob(Omnibus):                    nan   Jarque-Bera (JB):                0.323\n",
       "Skew:                           0.205   Prob(JB):                        0.851\n",
       "Kurtosis:                       1.824   Cond. No.                         1.00\n",
       "==============================================================================\n",
       "\n",
       "Notes:\n",
       "[1] R² is computed without centering (uncentered) since the model does not contain a constant.\n",
       "[2] Standard Errors assume that the covariance matrix of the errors is correctly specified.\n",
       "\"\"\""
      ]
     },
     "execution_count": 17,
     "metadata": {},
     "output_type": "execute_result"
    }
   ],
   "source": [
    "x=US_tab['Expenditure (USD Billions)'] #Sets the inputs of x and y\n",
    "y=US_tab['Interest Rate']\n",
    "US_ols=sm.OLS(y, x) #Calls the OLS function\n",
    "US_ols.fit().summary() #Ouputs summary of OLS resgression results for US"
   ]
  },
  {
   "cell_type": "code",
   "execution_count": 18,
   "metadata": {},
   "outputs": [
    {
     "name": "stderr",
     "output_type": "stream",
     "text": [
      "C:\\Users\\Arifu\\anaconda3\\lib\\site-packages\\statsmodels\\stats\\stattools.py:74: ValueWarning: omni_normtest is not valid with less than 8 observations; 5 samples were given.\n",
      "  warn(\"omni_normtest is not valid with less than 8 observations; %i \"\n"
     ]
    },
    {
     "data": {
      "text/html": [
       "<table class=\"simpletable\">\n",
       "<caption>OLS Regression Results</caption>\n",
       "<tr>\n",
       "  <th>Dep. Variable:</th>      <td>Interest Rate</td>  <th>  R-squared (uncentered):</th>      <td>   0.968</td>\n",
       "</tr>\n",
       "<tr>\n",
       "  <th>Model:</th>                   <td>OLS</td>       <th>  Adj. R-squared (uncentered):</th> <td>   0.959</td>\n",
       "</tr>\n",
       "<tr>\n",
       "  <th>Method:</th>             <td>Least Squares</td>  <th>  F-statistic:       </th>          <td>   119.2</td>\n",
       "</tr>\n",
       "<tr>\n",
       "  <th>Date:</th>             <td>Sun, 25 Apr 2021</td> <th>  Prob (F-statistic):</th>          <td>0.000400</td>\n",
       "</tr>\n",
       "<tr>\n",
       "  <th>Time:</th>                 <td>02:11:30</td>     <th>  Log-Likelihood:    </th>          <td> -9.3544</td>\n",
       "</tr>\n",
       "<tr>\n",
       "  <th>No. Observations:</th>      <td>     5</td>      <th>  AIC:               </th>          <td>   20.71</td>\n",
       "</tr>\n",
       "<tr>\n",
       "  <th>Df Residuals:</th>          <td>     4</td>      <th>  BIC:               </th>          <td>   20.32</td>\n",
       "</tr>\n",
       "<tr>\n",
       "  <th>Df Model:</th>              <td>     1</td>      <th>                     </th>              <td> </td>   \n",
       "</tr>\n",
       "<tr>\n",
       "  <th>Covariance Type:</th>      <td>nonrobust</td>    <th>                     </th>              <td> </td>   \n",
       "</tr>\n",
       "</table>\n",
       "<table class=\"simpletable\">\n",
       "<tr>\n",
       "               <td></td>                 <th>coef</th>     <th>std err</th>      <th>t</th>      <th>P>|t|</th>  <th>[0.025</th>    <th>0.975]</th>  \n",
       "</tr>\n",
       "<tr>\n",
       "  <th>Expenditure (USD Billions)</th> <td>    0.1304</td> <td>    0.012</td> <td>   10.917</td> <td> 0.000</td> <td>    0.097</td> <td>    0.164</td>\n",
       "</tr>\n",
       "</table>\n",
       "<table class=\"simpletable\">\n",
       "<tr>\n",
       "  <th>Omnibus:</th>       <td>   nan</td> <th>  Durbin-Watson:     </th> <td>   0.798</td>\n",
       "</tr>\n",
       "<tr>\n",
       "  <th>Prob(Omnibus):</th> <td>   nan</td> <th>  Jarque-Bera (JB):  </th> <td>   0.282</td>\n",
       "</tr>\n",
       "<tr>\n",
       "  <th>Skew:</th>          <td> 0.129</td> <th>  Prob(JB):          </th> <td>   0.869</td>\n",
       "</tr>\n",
       "<tr>\n",
       "  <th>Kurtosis:</th>      <td> 1.866</td> <th>  Cond. No.          </th> <td>    1.00</td>\n",
       "</tr>\n",
       "</table><br/><br/>Notes:<br/>[1] R² is computed without centering (uncentered) since the model does not contain a constant.<br/>[2] Standard Errors assume that the covariance matrix of the errors is correctly specified."
      ],
      "text/plain": [
       "<class 'statsmodels.iolib.summary.Summary'>\n",
       "\"\"\"\n",
       "                                 OLS Regression Results                                \n",
       "=======================================================================================\n",
       "Dep. Variable:          Interest Rate   R-squared (uncentered):                   0.968\n",
       "Model:                            OLS   Adj. R-squared (uncentered):              0.959\n",
       "Method:                 Least Squares   F-statistic:                              119.2\n",
       "Date:                Sun, 25 Apr 2021   Prob (F-statistic):                    0.000400\n",
       "Time:                        02:11:30   Log-Likelihood:                         -9.3544\n",
       "No. Observations:                   5   AIC:                                      20.71\n",
       "Df Residuals:                       4   BIC:                                      20.32\n",
       "Df Model:                           1                                                  \n",
       "Covariance Type:            nonrobust                                                  \n",
       "==============================================================================================\n",
       "                                 coef    std err          t      P>|t|      [0.025      0.975]\n",
       "----------------------------------------------------------------------------------------------\n",
       "Expenditure (USD Billions)     0.1304      0.012     10.917      0.000       0.097       0.164\n",
       "==============================================================================\n",
       "Omnibus:                          nan   Durbin-Watson:                   0.798\n",
       "Prob(Omnibus):                    nan   Jarque-Bera (JB):                0.282\n",
       "Skew:                           0.129   Prob(JB):                        0.869\n",
       "Kurtosis:                       1.866   Cond. No.                         1.00\n",
       "==============================================================================\n",
       "\n",
       "Notes:\n",
       "[1] R² is computed without centering (uncentered) since the model does not contain a constant.\n",
       "[2] Standard Errors assume that the covariance matrix of the errors is correctly specified.\n",
       "\"\"\""
      ]
     },
     "execution_count": 18,
     "metadata": {},
     "output_type": "execute_result"
    }
   ],
   "source": [
    "x=RUS_tab['Expenditure (USD Billions)'] #Sets the inputs of x and y\n",
    "y=RUS_tab['Interest Rate']\n",
    "RUS_ols=sm.OLS(y, x) #Calls the OLS function\n",
    "RUS_ols.fit().summary() #Ouputs summary of OLS resgression results for Russia"
   ]
  },
  {
   "cell_type": "markdown",
   "metadata": {},
   "source": [
    "Section 7: Graphical Representation of Data over time"
   ]
  },
  {
   "cell_type": "code",
   "execution_count": 19,
   "metadata": {},
   "outputs": [
    {
     "data": {
      "image/png": "[encoded data removed]",
      "text/plain": [
       "<Figure size 1152x576 with 1 Axes>"
      ]
     },
     "metadata": {
      "needs_background": "light"
     },
     "output_type": "display_data"
    }
   ],
   "source": [
    "#Military Expenditure line Graph\n",
    "plt.subplots(figsize=(16, 8))\n",
    "plt.plot(UK_Mil['Year'], UK_Mil['Billions (USD)'], label='$UK$', color='red')#Plots Year on x-axis and Expenditure on y-axis as a line graph \n",
    "plt.plot(US_Mil['Year'], US_Mil['Billions (USD)'], label='$US$', color='green')#Each Nation has its own label and colour\n",
    "plt.plot(RUS_Mil['Year'], RUS_Mil['Billions (USD)'], label='$RUS$', color='blue')\n",
    "plt.xlabel('Time') #Axis Label\n",
    "plt.ylabel('Billions (USD)')\n",
    "plt.title('Military Expenditure Over Time') #Title\n",
    "plt.grid(True) #Grid Lines\n",
    "plt.legend() #Legend\n",
    "plt.show() #Shows Plot"
   ]
  },
  {
   "cell_type": "code",
   "execution_count": 20,
   "metadata": {},
   "outputs": [
    {
     "data": {
      "image/png": "[encoded data removed]",
      "text/plain": [
       "<Figure size 1152x576 with 1 Axes>"
      ]
     },
     "metadata": {
      "needs_background": "light"
     },
     "output_type": "display_data"
    }
   ],
   "source": [
    "#Interest Rate line Graph\n",
    "plt.subplots(figsize=(16, 8))\n",
    "plt.plot(UK_int['Date'], UK_int['Value'], label='$UK$', color='red') #Plots Date on x-axis and Value on y-axis as a line graph \n",
    "plt.plot(US_int['Date'], US_int['Value'], label='$US$', color='green') #Each Nation has its own label and colour\n",
    "plt.plot(RUS_int['Date'], RUS_int['Value'], label='$RUS$', color='blue')\n",
    "plt.xlabel('Time') #Axis Label\n",
    "plt.ylabel('Interest Rate')\n",
    "plt.title('Base Interest Rate Over Time') #Title\n",
    "plt.grid(True) #Grid Lines\n",
    "plt.legend() #Legend\n",
    "plt.show() #Shows Plot"
   ]
  },
  {
   "cell_type": "markdown",
   "metadata": {},
   "source": [
    "Section 8: Comparative Graphical Representation of Data"
   ]
  },
  {
   "cell_type": "code",
   "execution_count": 21,
   "metadata": {},
   "outputs": [
    {
     "data": {
      "image/png": "[encoded data removed]",
      "text/plain": [
       "<Figure size 1152x576 with 1 Axes>"
      ]
     },
     "metadata": {
      "needs_background": "light"
     },
     "output_type": "display_data"
    }
   ],
   "source": [
    "fig, ax = plt.subplots(figsize=(16, 8))\n",
    "UK_lin=np.polyfit(UK_Mil['Billions (USD)'],UK_int['Value'],1) #Computes line of best fit for Expenditure data on Interest rates\n",
    "UK_fit=np.poly1d(UK_lin) #Generates line of best fit \n",
    "ax.scatter(UK_Mil['Billions (USD)'],UK_int['Value'], label='UK', color='red') #Plots Expenditure against Interest rates as a scatter plot\n",
    "plt.title('UK: Military Expenditure vs Interest Rate') #Plot title\n",
    "plt.plot(UK_Mil['Billions (USD)'], UK_fit(UK_Mil['Billions (USD)']), label='UK', color='red') #Plots the line of best fit \n",
    "plt.xlabel('Billions (USD)') #Axis Labels\n",
    "plt.ylabel('Interest Rate')\n",
    "ax.grid(True) #Grid lines\n",
    "ax.legend() #Legend\n",
    "plt.show() #Shows Plot "
   ]
  },
  {
   "cell_type": "code",
   "execution_count": 22,
   "metadata": {},
   "outputs": [
    {
     "data": {
      "image/png": "[encoded data removed]",
      "text/plain": [
       "<Figure size 1152x576 with 1 Axes>"
      ]
     },
     "metadata": {
      "needs_background": "light"
     },
     "output_type": "display_data"
    }
   ],
   "source": [
    "fig, ax = plt.subplots(figsize=(16, 8))\n",
    "US_lin=np.polyfit(US_Mil['Billions (USD)'],US_int['Value'],1) #The same code has been repeated for US data series\n",
    "US_fit=np.poly1d(US_lin) \n",
    "ax.scatter(US_Mil['Billions (USD)'],US_int['Value'], label='US', color='blue') \n",
    "plt.title('US: Military Expenditure vs Interest Rate') \n",
    "plt.plot(US_Mil['Billions (USD)'], US_fit(US_Mil['Billions (USD)']), label='US', color='blue')\n",
    "plt.xlabel('Billions (USD)') \n",
    "plt.ylabel('Interest Rate')\n",
    "ax.grid(True) \n",
    "ax.legend()\n",
    "plt.show()"
   ]
  },
  {
   "cell_type": "code",
   "execution_count": 23,
   "metadata": {},
   "outputs": [
    {
     "data": {
      "image/png": "[encoded data removed]",
      "text/plain": [
       "<Figure size 1152x576 with 1 Axes>"
      ]
     },
     "metadata": {
      "needs_background": "light"
     },
     "output_type": "display_data"
    }
   ],
   "source": [
    "fig, ax = plt.subplots(figsize=(16, 8))\n",
    "RUS_lin=np.polyfit(RUS_Mil['Billions (USD)'],RUS_int['Value'],1) #The same code has been repeated for Russian data series\n",
    "RUS_fit=np.poly1d(RUS_lin)\n",
    "ax.scatter(RUS_Mil['Billions (USD)'],RUS_int['Value'], label='RUS', color='green') \n",
    "plt.title('RUS: Military Expenditure vs Interest Rate') \n",
    "plt.plot(RUS_Mil['Billions (USD)'], RUS_fit(RUS_Mil['Billions (USD)']), label='RUS', color='green')\n",
    "plt.xlabel('Billions (USD)') \n",
    "plt.ylabel('Interest Rate')\n",
    "ax.grid(True) \n",
    "ax.legend()\n",
    "plt.show()"
   ]
  },
  {
   "cell_type": "code",
   "execution_count": null,
   "metadata": {},
   "outputs": [],
   "source": []
  }
 ],
 "metadata": {
  "kernelspec": {
   "display_name": "Python 3",
   "language": "python",
   "name": "python3"
  },
  "language_info": {
   "codemirror_mode": {
    "name": "ipython",
    "version": 3
   },
   "file_extension": ".py",
   "mimetype": "text/x-python",
   "name": "python",
   "nbconvert_exporter": "python",
   "pygments_lexer": "ipython3",
   "version": "3.8.5"
  }
 },
 "nbformat": 4,
 "nbformat_minor": 4
}
