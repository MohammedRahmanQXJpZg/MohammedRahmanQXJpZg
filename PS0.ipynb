{
 "cells": [
  {
   "cell_type": "markdown",
   "metadata": {},
   "source": [
    "# Problem Set 0 Mohammed Rahman"
   ]
  },
  {
   "cell_type": "markdown",
   "metadata": {},
   "source": [
    "## Creating Data Types\n",
    "\n",
    "In the cell below, create the variables\n",
    "\n",
    "- Create a string called `s` \n",
    "- Create a integer called `i` \n",
    "- Create a Boolean called `b` \n",
    "- Create a float called `f` \n",
    "- Create a list called `l`, containing all the above variables\n",
    "- Create a dictionary called `d` with keys all of the above variables and associated entries the variables type. "
   ]
  },
  {
   "cell_type": "code",
   "execution_count": 14,
   "metadata": {},
   "outputs": [
    {
     "name": "stdout",
     "output_type": "stream",
     "text": [
      "['string', 5, True, 1.0]\n",
      "{'string': <class 'str'>, 5: <class 'int'>, True: <class 'float'>}\n"
     ]
    }
   ],
   "source": [
    "s=str(\"string\") \n",
    "i=int(5)\n",
    "b=bool(True)\n",
    "f=float(1.0)\n",
    "l=[s, i, b, f]\n",
    "d={s:str, i:int, b:bool, f:float} \n",
    "\n",
    "print(l)\n",
    "print(d)"
   ]
  },
  {
   "cell_type": "markdown",
   "metadata": {},
   "source": [
    "## Converting Types\n",
    "\n",
    "Create a list, an integer and a float that, when converted into a Boolean will create `False`. Do the same again for that in convert to `True`. Verify this by taking the logical disjunction (i.e., OR) of the false variables. This will return `False` if and only if each variable is. Do the same with conjunction (i.e., AND) and the true variables. Print the results."
   ]
  },
  {
   "cell_type": "code",
   "execution_count": 15,
   "metadata": {},
   "outputs": [
    {
     "name": "stdout",
     "output_type": "stream",
     "text": [
      "False\n",
      "True\n"
     ]
    }
   ],
   "source": [
    "l1=('a', 'b', 'c')\n",
    "i1=3\n",
    "f1=3.14\n",
    "\n",
    "l1=bool(False)\n",
    "i1=bool(False)\n",
    "f1=bool(False)\n",
    "\n",
    "l2=('q', 'r', 's')\n",
    "i2=2\n",
    "f2=2.14\n",
    "\n",
    "l2=bool(True)\n",
    "i2=bool(True)\n",
    "f2=bool(True)\n",
    "\n",
    "print(l1 or i1)\n",
    "\n",
    "print(i2 and l2)"
   ]
  },
  {
   "cell_type": "markdown",
   "metadata": {},
   "source": [
    "Find the product of `i`, `j`, and `k`. How many digits are in the product. Find the 4th, 13th, and 123rd (from the right) digit of the product. `Hint` It may be inefficient but one way to do it would be to convert it to a string and use string functions."
   ]
  },
  {
   "cell_type": "code",
   "execution_count": 16,
   "metadata": {},
   "outputs": [],
   "source": [
    "i = 340578173507426043985230943209672384235872468237319048309\n",
    "j = 1342343676456325646542526735853245624675934253\n",
    "k = 345357456585326347665555777"
   ]
  },
  {
   "cell_type": "code",
   "execution_count": 17,
   "metadata": {},
   "outputs": [
    {
     "name": "stdout",
     "output_type": "stream",
     "text": [
      "The product of i, j, and k is 157888089837933036821003227895468117374173086193395927357057655359281646210475906773613760114452578627496053885839239797664728529\n",
      "X has 129 digits\n",
      "Its 4th digit is 8 its 13th is 9 and 123rd digit is 4\n"
     ]
    }
   ],
   "source": [
    "x=i*j*k #computes product and assigns value to x\n",
    "x_len=len(str(x)) #converts x to a string and finds length of x\n",
    "x_4th=str(x)[3] #converts x to a string and finds 4th character\n",
    "x_13th=str(x)[12] #converts x to a string and finds 13th character\n",
    "x_123rd=str(x)[122] #converts x to a string and finds 123rd character\n",
    "\n",
    "print(\"The product of i, j, and k is\", x)\n",
    "print(\"X has\" , x_len, \"digits\") \n",
    "print(\"Its 4th digit is\", x_4th, \"its 13th is\", x_13th, \"and 123rd digit is\",x_123rd )\n",
    "\n"
   ]
  },
  {
   "cell_type": "markdown",
   "metadata": {},
   "source": [
    "## Manipulating Lists and Integers\n",
    "\n",
    "Create a list, `evens`, with the even numbers below 100. Using list indexing, create from `evens` a new list, called `fours_again` which contains only multiples of 4. \n",
    "\n",
    "`Bonus:` Using list comprehension, create from `evens` a new list, called `fours` which contains only multiples of 4.  Check that these two lists are the same."
   ]
  },
  {
   "cell_type": "code",
   "execution_count": 18,
   "metadata": {},
   "outputs": [
    {
     "name": "stdout",
     "output_type": "stream",
     "text": [
      "[0, 2, 4, 6, 8, 10, 12, 14, 16, 18, 20, 22, 24, 26, 28, 30, 32, 34, 36, 38, 40, 42, 44, 46, 48, 50, 52, 54, 56, 58, 60, 62, 64, 66, 68, 70, 72, 74, 76, 78, 80, 82, 84, 86, 88, 90, 92, 94, 96, 98]\n",
      "[0, 4, 8, 12, 16, 20, 24, 28, 32, 36, 40, 44, 48, 52, 56, 60, 64, 68, 72, 76, 80, 84, 88, 92, 96]\n",
      "[0, 4, 8, 12, 16, 20, 24, 28, 32, 36, 40, 44, 48, 52, 56, 60, 64, 68, 72, 76, 80, 84, 88, 92, 96]\n",
      "True\n"
     ]
    }
   ],
   "source": [
    "evens = [i for i in range(100) if i%2==0] #Complies list of all integers are divsible by 2 and less than 100\n",
    "print(evens) \n",
    "\n",
    "fours_again= [j for j in evens if j%4==0] #Complies list of all integers are divsible by 4 within evens\n",
    "print(fours_again)\n",
    "\n",
    "#Bonus:\n",
    "\n",
    "fours= [j for j in range(100) if j%4==0] #Complies list of all integers are divsible by 4 and less than 100\n",
    "print(fours)\n",
    "\n",
    "if fours_again==fours: #Verifies if each character is the same \n",
    "    print(True) #Prints true dpending on the outcome"
   ]
  }
 ],
 "metadata": {
  "kernelspec": {
   "display_name": "Python 3",
   "language": "python",
   "name": "python3"
  },
  "language_info": {
   "codemirror_mode": {
    "name": "ipython",
    "version": 3
   },
   "file_extension": ".py",
   "mimetype": "text/x-python",
   "name": "python",
   "nbconvert_exporter": "python",
   "pygments_lexer": "ipython3",
   "version": "3.8.5"
  }
 },
 "nbformat": 4,
 "nbformat_minor": 2
}
