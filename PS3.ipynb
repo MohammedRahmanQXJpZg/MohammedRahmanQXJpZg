{
 "cells": [
  {
   "cell_type": "markdown",
   "metadata": {},
   "source": [
    "# Problem Set 3: Solutions\n",
    "\n",
    "Due **10 Feb 2021**\n",
    "\n",
    "Note that there's usually more than one way to achive the same result. As such, these answers show just one (or two) possibilities. You can have a perfectly valid code which achieves the same but differs from below."
   ]
  },
  {
   "cell_type": "code",
   "execution_count": 1,
   "metadata": {},
   "outputs": [],
   "source": [
    "from IPython.core.interactiveshell import InteractiveShell  # This is to display all outputs in a cell\n",
    "InteractiveShell.ast_node_interactivity = \"all\"             # not just the last one (can also be set in preferences)"
   ]
  },
  {
   "cell_type": "markdown",
   "metadata": {},
   "source": [
    "### 1. Import the numpy package under the name `np` \n",
    "(**hint**: import … as …)"
   ]
  },
  {
   "cell_type": "code",
   "execution_count": 4,
   "metadata": {},
   "outputs": [],
   "source": [
    "import numpy as np"
   ]
  },
  {
   "cell_type": "markdown",
   "metadata": {},
   "source": [
    "### 2. Basics of array creation\n",
    "\n",
    "Create an array:\n",
    " - of 10 zeros\n",
    " - of 10 zeros except the fifth entry is a 1\n",
    " - with values ranging from 7 to 28\n",
    " - with values ranging from 7 to 28, but only even numbers\n",
    " - with values ranging from 7 to 28, but in reverse order\n",
    " - of size 10 with values ranging from 0 to 1, evenly spaced, with both endpoints excluded\n",
    " - of size 50, with random integers between 0 and 10\n",
    "     - use `bincount` and `argmax` to find the most frequently occurring value\n",
    " \n",
    " \n",
    " \n",
    "**Hint**: You can use the indexing method `start:stop:step` (not specific to NumPy): it's a general slicing which says include elements from `start` (inclusive) to `stop` (not including) taking every `step` element. If `start` is omitted, this means start from the beginning; if `stop` is omitted, this means continue till the end of the sequence. Finally, negative step means count from the end. So, `::2` takes every other element `::3` every third, etc. Negative indexes read from the end forwards, so `::-1` reads in plain language: \"take the whole sequence and read from the end using step 1.\""
   ]
  },
  {
   "cell_type": "code",
   "execution_count": 205,
   "metadata": {},
   "outputs": [
    {
     "name": "stdout",
     "output_type": "stream",
     "text": [
      "i:\n",
      " [0. 0. 0. 0. 0. 0. 0. 0. 0. 0.]\n",
      "ii:\n",
      " [0. 0. 0. 0. 1. 0. 0. 0. 0. 0.]\n",
      "iii:\n",
      " [ 7  8  9 10 11 12 13 14 15 16 17 18 19 20 21 22 23 24 25 26 27]\n",
      "iv:\n",
      " [ 8 10 12 14 16 18 20 22 24 26]\n",
      "v:\n",
      " [27 26 25 24 23 22 21 20 19 18 17 16 15 14 13 12 11 10  9  8  7]\n",
      "vi:\n",
      " [0.09090909 0.18181818 0.27272727 0.36363636 0.45454545 0.54545455\n",
      " 0.63636364 0.72727273 0.81818182 0.90909091]\n",
      "vii:\n",
      " [9 4 8 7 4 3 8 9 2 1 3 0 8 7 8 0 7 1 8 7 8 6 2 6 6 4 3 8 5 6 8 9 8 9 4 9 0\n",
      " 0 4 7 6 1 9 2 3 2 3 6 9 5]\n",
      "\n",
      " [4 3 4 5 5 2 6 5 9 7]\n",
      "\n",
      " 8\n"
     ]
    }
   ],
   "source": [
    "#i)\n",
    "a=np.zeros(10)\n",
    "print(\"i:\\n\",a)\n",
    "#ii)\n",
    "b=np.zeros(10)\n",
    "b[4]=1\n",
    "print(\"ii:\\n\",b)\n",
    "#iii)\n",
    "c=np.arange(7,28) \n",
    "print(\"iii:\\n\",c)\n",
    "#iv)\n",
    "d=np.arange(7,28) \n",
    "d= d[d%2==0]\n",
    "print(\"iv:\\n\",d)\n",
    "#v)\n",
    "e=np.arange(7,28)\n",
    "e=np.flip(e)\n",
    "print(\"v:\\n\",e)\n",
    "#vi)\n",
    "f=np.linspace(0,1,11, endpoint=False)[1:]\n",
    "print(\"vi:\\n\",f)\n",
    "#vii)\n",
    "g=np.random.randint(0, 10, 50)\n",
    "print(\"vii:\\n\",g)\n",
    "print(\"\\n\",np.bincount(g))\n",
    "print(\"\\n\",np.bincount(g).argmax())"
   ]
  },
  {
   "cell_type": "markdown",
   "metadata": {},
   "source": [
    "### 3.  Multi-Dimensional Arrays\n",
    "\n",
    "Create a:\n",
    " - 5x5 matrix with values from 0 to 24\n",
    " - 5x5 matrix with random values between 0 and 1\n",
    "     - find the min and max values\n",
    "     - find the mean\n",
    "     - find the mean of each row (store this as a vertical vector (a (5x1 matrix)) **Hint**: keepdims=True"
   ]
  },
  {
   "cell_type": "code",
   "execution_count": 212,
   "metadata": {},
   "outputs": [
    {
     "name": "stdout",
     "output_type": "stream",
     "text": [
      "5x5 matrix with values from 0 to 24: \n",
      " [[ 0  1  2  3  4]\n",
      " [ 5  6  7  8  9]\n",
      " [10 11 12 13 14]\n",
      " [15 16 17 18 19]\n",
      " [20 21 22 23 24]]\n",
      "5x5 matrix with random values between 0 and 1: \n",
      " [[0.01224607 0.62583154 0.62558549 0.9505414  0.55958378]\n",
      " [0.05298752 0.91009194 0.5559045  0.67229247 0.96760145]\n",
      " [0.29344276 0.42479848 0.28480968 0.73269371 0.93435496]\n",
      " [0.92276601 0.72271465 0.65057097 0.41407666 0.13352559]\n",
      " [0.56798334 0.5060703  0.14861409 0.31446722 0.44449638]]\n",
      "Minimum Value: \n",
      " 0.012246067567005747\n",
      "Maximum Value: \n",
      " 0.9676014453849894\n",
      "Mean: \n",
      " 0.5371220370546748\n",
      "Mean of each row as a 5x1 vector: \n",
      " [[0.55475765]\n",
      " [0.63177558]\n",
      " [0.53401992]\n",
      " [0.56873077]\n",
      " [0.39632627]]\n"
     ]
    }
   ],
   "source": [
    "#i)\n",
    "arr=np.arange(25).reshape((5,5))   \n",
    "print(\"5x5 matrix with values from 0 to 24: \\n\", arr)\n",
    "\n",
    "#ii)\n",
    "arr=np.random.random((5,5))\n",
    "print(\"5x5 matrix with random values between 0 and 1: \\n\", arr)\n",
    "print(\"Minimum Value: \\n\", np.min(arr))\n",
    "print(\"Maximum Value: \\n\", np.max(arr))\n",
    "print(\"Mean: \\n\", np.mean(arr))\n",
    "arr_rmean=(arr.mean(axis=1).reshape(5,1))\n",
    "print(\"Mean of each row as a 5x1 vector: \\n\", arr_rmean)"
   ]
  },
  {
   "cell_type": "markdown",
   "metadata": {},
   "source": [
    "### 4. How to find the closest value (to a given scalar) in a vector?\n",
    "Write a function that takes an array and find the index (and the associated value) of the value closest to the mean.\n",
    "Test on `x = np.random.random(12)`."
   ]
  },
  {
   "cell_type": "code",
   "execution_count": 216,
   "metadata": {},
   "outputs": [
    {
     "name": "stdout",
     "output_type": "stream",
     "text": [
      " Input Array: \n",
      " [0.0636511  0.17400446 0.53760104 0.04379888 0.65725983 0.2965003\n",
      " 0.93789928 0.14503819 0.41315419 0.4695772  0.45287443 0.40734604] \n",
      " Array Mean: \n",
      " 0.38322541236897556\n",
      " Output Index : Output Value \n",
      " 11 : 0.40734604496900517\n"
     ]
    }
   ],
   "source": [
    "def closest_to_mean(arr):\n",
    "    \"\"\"\n",
    "    input: arr, an np array of numeric types\n",
    "    output: the index closed to the mean of the array\n",
    "    \"\"\"\n",
    "    arr_mean=float(np.mean(arr)) #Calculates mean of the array as a float \n",
    "    abs_arr=np.abs(arr-arr_mean) #Generates absoulte array of deviaations between original array and array mean\n",
    "    closest_index=abs_arr.argmin() #Finds the index of the minimum deviation \n",
    "    closest_val=arr[abs_arr.argmin()] #Finds the array value closest using the minimum deviation index \n",
    "    print(\" Input Array: \\n\", arr ,\"\\n\",\"Array Mean: \\n\", arr_mean)\n",
    "    print(\" Output Index : Output Value \\n\", closest_index, \":\", closest_val)\n",
    "    return \n",
    "\n",
    "x = np.random.random(12)\n",
    "closest_to_mean(x)"
   ]
  },
  {
   "cell_type": "markdown",
   "metadata": {},
   "source": [
    "### 5. Boolean Indexing\n",
    "\n",
    "Create a function `odd_v_even` which: \n",
    " - Takes as input a 5x5 matrix and creates a new matrix, `x`, that is the same as the input matrix except with all even numbers negated. You can use either.\n",
    "     -  Boolean Masking/Indexing\n",
    "     -  `np.where(cond, if-arr, else-arr)`\n",
    " - The function should return the matrix `x` as well as how many rows of `x` have a sum greater than 0. **Hint**: To calculate how many rows have a sum >0, you can calculate sums across each row of `x`, then can use boolean indexing to get True and False values, then use sum to add Trues (1) and Falses (0).\n",
    " \n",
    "Finally, create a 5x5 matrix, called `z`, of random integers between 0 and 10. Run this function on `z`."
   ]
  },
  {
   "cell_type": "code",
   "execution_count": 1,
   "metadata": {},
   "outputs": [
    {
     "ename": "NameError",
     "evalue": "name 'np' is not defined",
     "output_type": "error",
     "traceback": [
      "\u001b[1;31m---------------------------------------------------------------------------\u001b[0m",
      "\u001b[1;31mNameError\u001b[0m                                 Traceback (most recent call last)",
      "\u001b[1;32m<ipython-input-1-c91e4dd84d09>\u001b[0m in \u001b[0;36m<module>\u001b[1;34m\u001b[0m\n\u001b[0;32m     14\u001b[0m     \u001b[1;32mreturn\u001b[0m\u001b[1;33m\u001b[0m\u001b[1;33m\u001b[0m\u001b[0m\n\u001b[0;32m     15\u001b[0m \u001b[1;33m\u001b[0m\u001b[0m\n\u001b[1;32m---> 16\u001b[1;33m \u001b[0mz\u001b[0m\u001b[1;33m=\u001b[0m\u001b[0mnp\u001b[0m\u001b[1;33m.\u001b[0m\u001b[0mrandom\u001b[0m\u001b[1;33m.\u001b[0m\u001b[0mrandint\u001b[0m\u001b[1;33m(\u001b[0m\u001b[1;36m10\u001b[0m\u001b[1;33m,\u001b[0m \u001b[0msize\u001b[0m\u001b[1;33m=\u001b[0m\u001b[1;33m(\u001b[0m\u001b[1;36m5\u001b[0m\u001b[1;33m,\u001b[0m\u001b[1;36m5\u001b[0m\u001b[1;33m)\u001b[0m\u001b[1;33m)\u001b[0m \u001b[1;31m#Generates input array which satisfies the requirements of z\u001b[0m\u001b[1;33m\u001b[0m\u001b[1;33m\u001b[0m\u001b[0m\n\u001b[0m\u001b[0;32m     17\u001b[0m \u001b[0modd_v_even\u001b[0m\u001b[1;33m(\u001b[0m\u001b[0mz\u001b[0m\u001b[1;33m)\u001b[0m\u001b[1;33m\u001b[0m\u001b[1;33m\u001b[0m\u001b[0m\n",
      "\u001b[1;31mNameError\u001b[0m: name 'np' is not defined"
     ]
    }
   ],
   "source": [
    "def odd_v_even(z):\n",
    "    \"\"\"\n",
    "    input: z is a 5x5 matrix (np object)\n",
    "    output: (x, a) where x is a matrix with even values of z negated and a an int, the number of rows with sum >0\n",
    "    \"\"\"\n",
    "    x=np.where(z%2==0, -z, z) #Creates X, a negative copy of array Z if elements are even. \n",
    "    xrow_sum=x.sum(axis=1) #Creates a new array consisting of the summation of each row of x\n",
    "    a_count=0 #Helper variable \n",
    "    for i in range(len(x)): #Iterates i within a range of x's length \n",
    "        if xrow_sum[i]>0: #Tests if the ith element of xrow_sum (summation of ith row of x) is positive\n",
    "            a_count +=1 #Increases counter if true\n",
    "    print(\"x: \\n\", x)\n",
    "    print(\"a:\", a_count)\n",
    "    return \n",
    "\n",
    "z=np.random.randint(10, size=(5,5)) #Generates input array which satisfies the requirements of z\n",
    "odd_v_even(z)"
   ]
  },
  {
   "cell_type": "code",
   "execution_count": 10,
   "metadata": {},
   "outputs": [
    {
     "name": "stdout",
     "output_type": "stream",
     "text": [
      "[[ 6  2  4  3  9]\n",
      " [ 4  3 -1  4  2]\n",
      " [ 0  7  3  8  2]\n",
      " [ 6  9  9  7  4]\n",
      " [ 3  2  9  9  6]]\n",
      "5\n"
     ]
    }
   ],
   "source": [
    "def odd_v_even(z):\n",
    "    x=np.where(z//2==0, -z, z) \n",
    "    x_sum=x.sum(axis=1) \n",
    "    a=0  \n",
    "    for i in range(5):\n",
    "        if x_sum[i]>0: \n",
    "            a +=1 \n",
    "    print(x)\n",
    "    print(a)\n",
    "    return \n",
    "\n",
    "z=np.random.randint(10, size=(5,5)) #Generates input array which satisfies the requirements of z\n",
    "odd_v_even(z)"
   ]
  },
  {
   "cell_type": "code",
   "execution_count": null,
   "metadata": {},
   "outputs": [],
   "source": []
  }
 ],
 "metadata": {
  "kernelspec": {
   "display_name": "Python 3",
   "language": "python",
   "name": "python3"
  },
  "language_info": {
   "codemirror_mode": {
    "name": "ipython",
    "version": 3
   },
   "file_extension": ".py",
   "mimetype": "text/x-python",
   "name": "python",
   "nbconvert_exporter": "python",
   "pygments_lexer": "ipython3",
   "version": "3.8.5"
  }
 },
 "nbformat": 4,
 "nbformat_minor": 2
}
